{
 "cells": [
  {
   "cell_type": "code",
   "execution_count": 1,
   "metadata": {},
   "outputs": [
    {
     "name": "stderr",
     "output_type": "stream",
     "text": [
      "Using TensorFlow backend.\n"
     ]
    }
   ],
   "source": [
    "import os\n",
    "import tensorflow as tf\n",
    "import numpy as np\n",
    "import pandas as pd\n",
    "import matplotlib.pyplot as plt\n",
    "import keras\n",
    "from keras.models import Sequential\n",
    "from keras.layers import Conv2D, MaxPooling2D, Dense, Flatten, Dropout\n",
    "from keras.optimizers import Adam\n",
    "from keras.callbacks import TensorBoard\n",
    "from keras.layers import advanced_activations\n"
   ]
  },
  {
   "cell_type": "code",
   "execution_count": 2,
   "metadata": {},
   "outputs": [
    {
     "name": "stdout",
     "output_type": "stream",
     "text": [
      "training dataset: (60000, 28, 28) (60000,) \n",
      "test_dataset: (10000, 28, 28) (10000,)\n"
     ]
    }
   ],
   "source": [
    "(train_images, train_labels), (test_images, test_labels) = tf.keras.datasets.mnist.load_data()\n",
    "print('training dataset:', train_images.shape, train_labels.shape, '\\ntest_dataset:', test_images.shape, test_labels.shape)"
   ]
  },
  {
   "cell_type": "code",
   "execution_count": 28,
   "metadata": {},
   "outputs": [
    {
     "data": {
      "image/png": "[encoded data removed]",
      "text/plain": [
       "<Figure size 1296x1296 with 8 Axes>"
      ]
     },
     "metadata": {
      "needs_background": "light"
     },
     "output_type": "display_data"
    }
   ],
   "source": [
    "k =8\n",
    "\n",
    "n_train = train_images.shape[0]\n",
    "\n",
    "t = np.random.choice(a=np.arange(0,n_train), size=k, replace=False)\n",
    "plt.figure(1, figsize=(18,18))\n",
    "\n",
    "for i, item in enumerate(t):\n",
    "    plt.subplot(300+k*10+1+i)\n",
    "    plt.imshow(train_images[t[i]], cmap='gray')\n",
    "    plt.axis('off')\n",
    "    plt.title(train_labels[t[i]], fontsize=20)"
   ]
  },
  {
   "cell_type": "code",
   "execution_count": 54,
   "metadata": {},
   "outputs": [
    {
     "name": "stdout",
     "output_type": "stream",
     "text": [
      "(10000, 28, 28)\n"
     ]
    }
   ],
   "source": [
    "n_test = test_images.shape[0]\n",
    "\n",
    "t = np.random.choice(a=np.arange(0,n_test), size=k, replace=False)\n",
    "plt.figure(1, figsize=(18,18))\n",
    "\n",
    "for i, item in enumerate(t):\n",
    "    plt.subplot(100+k*10+1+i)\n",
    "    plt.imshow(test_images[t[i]], cmap='gray')\n",
    "    plt.axis('off')\n",
    "    plt.title(test_labels[t[i]], fontsize=20)"
   ]
  },
  {
   "cell_type": "code",
   "execution_count": 35,
   "metadata": {},
   "outputs": [
    {
     "name": "stdout",
     "output_type": "stream",
     "text": [
      "training dataset: (60000, 784) (60000, 10) \n",
      "test_dataset: (10000, 784) (10000, 10)\n"
     ]
    }
   ],
   "source": [
    "data_train = np.reshape(train_images, (n_train, 784)).astype(np.float64)/255\n",
    "data_test = np.reshape(test_images, (n_test, 784)).astype(np.float64)/255\n",
    "labels_train = tf.keras.utils.to_categorical(train_labels, 10)\n",
    "labels_test = tf.keras.utils.to_categorical(test_labels, 10)\n",
    "print('training dataset:', data_train.shape, label_train.shape, '\\ntest_dataset:', data_test.shape, label_test.shape)"
   ]
  },
  {
   "cell_type": "code",
   "execution_count": 42,
   "metadata": {},
   "outputs": [
    {
     "name": "stdout",
     "output_type": "stream",
     "text": [
      "_________________________________________________________________\n",
      "Layer (type)                 Output Shape              Param #   \n",
      "=================================================================\n",
      "dense_20 (Dense)             (None, 784)               615440    \n",
      "_________________________________________________________________\n",
      "dense_21 (Dense)             (None, 512)               401920    \n",
      "_________________________________________________________________\n",
      "dense_22 (Dense)             (None, 256)               131328    \n",
      "_________________________________________________________________\n",
      "dense_23 (Dense)             (None, 128)               32896     \n",
      "_________________________________________________________________\n",
      "dense_24 (Dense)             (None, 10)                1290      \n",
      "=================================================================\n",
      "Total params: 1,182,874\n",
      "Trainable params: 1,182,874\n",
      "Non-trainable params: 0\n",
      "_________________________________________________________________\n"
     ]
    }
   ],
   "source": [
    "model = tf.keras.Sequential()\n",
    "model.add(tf.keras.layers.Dense(784, activation = 'relu', input_shape=(784,)))\n",
    "model.add(tf.keras.layers.Dense(512, activation = 'tanh'))\n",
    "model.add(tf.keras.layers.Dense(256, activation = 'linear'))\n",
    "model.add(tf.keras.layers.Dense(128, activation = 'relu'))\n",
    "model.add(tf.keras.layers.Dense(10, activation = 'softmax'))\n",
    "model.compile(loss='categorical_crossentropy',\n",
    "              optimizer='Adam',\n",
    "              metrics=['accuracy'])\n",
    "model.summary()"
   ]
  },
  {
   "cell_type": "code",
   "execution_count": 43,
   "metadata": {},
   "outputs": [
    {
     "name": "stdout",
     "output_type": "stream",
     "text": [
      "Train on 60000 samples, validate on 10000 samples\n",
      "Epoch 1/5\n",
      "60000/60000 [==============================] - 9s 155us/sample - loss: 0.2825 - acc: 0.9142 - val_loss: 0.1138 - val_acc: 0.9644\n",
      "Epoch 2/5\n",
      "60000/60000 [==============================] - 8s 127us/sample - loss: 0.0919 - acc: 0.9716 - val_loss: 0.0924 - val_acc: 0.9715\n",
      "Epoch 3/5\n",
      "60000/60000 [==============================] - 8s 130us/sample - loss: 0.0559 - acc: 0.9820 - val_loss: 0.0739 - val_acc: 0.9776\n",
      "Epoch 4/5\n",
      "60000/60000 [==============================] - 8s 130us/sample - loss: 0.0395 - acc: 0.9878 - val_loss: 0.0710 - val_acc: 0.9779\n",
      "Epoch 5/5\n",
      "60000/60000 [==============================] - 7s 125us/sample - loss: 0.0322 - acc: 0.9898 - val_loss: 0.0760 - val_acc: 0.9782\n"
     ]
    }
   ],
   "source": [
    "fit_model = model.fit(data_train, labels_train, batch_size=512, epochs=5\n",
    "    , validation_data=(data_test, labels_test))"
   ]
  },
  {
   "cell_type": "code",
   "execution_count": 44,
   "metadata": {},
   "outputs": [
    {
     "data": {
      "image/png": "[encoded data removed]",
      "text/plain": [
       "<Figure size 432x288 with 1 Axes>"
      ]
     },
     "metadata": {
      "needs_background": "light"
     },
     "output_type": "display_data"
    }
   ],
   "source": [
    "plt.plot(np.arange(1,6), np.asarray(fit_model.history['loss']))\n",
    "plt.plot(np.arange(1,6), np.asarray(fit_model.history['val_loss']))\n",
    "\n",
    "plt.title('training loss v. test loss by epochs')\n",
    "plt.ylabel('loss')\n",
    "plt.xlabel('epoch')\n",
    "plt.xticks(np.arange(1,6))\n",
    "plt.legend(['train','test'], loc='right')\n",
    "plt.show()"
   ]
  },
  {
   "cell_type": "code",
   "execution_count": 45,
   "metadata": {},
   "outputs": [
    {
     "name": "stdout",
     "output_type": "stream",
     "text": [
      "60000/60000 [==============================] - 8s 132us/sample - loss: 0.0214 - acc: 0.9934\n",
      "train accuracy: .0.993450\n"
     ]
    }
   ],
   "source": [
    "loss, accuracy = model.evaluate(d_train, l_train)\n",
    "print('train accuracy: .%2f' % (accuracy))"
   ]
  },
  {
   "cell_type": "code",
   "execution_count": 46,
   "metadata": {},
   "outputs": [
    {
     "name": "stdout",
     "output_type": "stream",
     "text": [
      "10000/10000 [==============================] - 2s 155us/sample - loss: 0.0760 - acc: 0.9782\n",
      "test accuracy: .0.978200\n"
     ]
    }
   ],
   "source": [
    "loss, accuracy = model.evaluate(d_test, l_test)\n",
    "print('test accuracy: .%2f' % (accuracy))"
   ]
  },
  {
   "cell_type": "code",
   "execution_count": 49,
   "metadata": {},
   "outputs": [
    {
     "data": {
      "image/png": "[encoded data removed]",
      "text/plain": [
       "<Figure size 432x288 with 1 Axes>"
      ]
     },
     "metadata": {
      "needs_background": "light"
     },
     "output_type": "display_data"
    },
    {
     "data": {
      "text/plain": [
       "(218, 28, 28)"
      ]
     },
     "execution_count": 49,
     "metadata": {},
     "output_type": "execute_result"
    }
   ],
   "source": [
    "plt.plot(np.arange(1,6), np.asarray(model_fit.history['acc']))\n",
    "plt.plot(np.arange(1,6), np.asarray(model_fit.history['val_acc']))\n",
    "\n",
    "plt.title('training acc v. test acc by epochs')\n",
    "plt.ylabel('accuracy %')\n",
    "plt.xlabel('epoch')\n",
    "plt.xticks(np.arange(1,6))\n",
    "\n",
    "plt.legend(['train','test'], loc='right')\n",
    "plt.show()\n",
    "y = model.predict(d_test)\n",
    "z = np.argmax(y, axis =1)\n",
    "x = test_images[test_labels !=z]\n",
    "y = test_labels[test_labels !=z]\n",
    "z = z[test_labels !=z]\n",
    "x.shape"
   ]
  },
  {
   "cell_type": "code",
   "execution_count": 48,
   "metadata": {},
   "outputs": [
    {
     "data": {
      "image/png": "[encoded data removed]",
      "text/plain": [
       "<Figure size 1440x1440 with 8 Axes>"
      ]
     },
     "metadata": {
      "needs_background": "light"
     },
     "output_type": "display_data"
    }
   ],
   "source": [
    "n = x.shape[0]\n",
    "t = np.random.choice(a=np.arange(0,n), size=k, replace=False)\n",
    "plt.figure(1, figsize=(20,20))\n",
    "\n",
    "for i, item in enumerate(t):\n",
    "    plt.subplot(100+k*10+1+i)\n",
    "    plt.imshow(x[t[i]], cmap = 'gray')\n",
    "    plt.axis('off')\n",
    "    plt.title('A:' + np.array2string(y[t[i]]) + 'P:' + np.array2string(z[t[i]]), fontsize = 20)"
   ]
  },
  {
   "cell_type": "code",
   "execution_count": null,
   "metadata": {},
   "outputs": [],
   "source": []
  }
 ],
 "metadata": {
  "kernelspec": {
   "display_name": "Python 3",
   "language": "python",
   "name": "python3"
  },
  "language_info": {
   "codemirror_mode": {
    "name": "ipython",
    "version": 3
   },
   "file_extension": ".py",
   "mimetype": "text/x-python",
   "name": "python",
   "nbconvert_exporter": "python",
   "pygments_lexer": "ipython3",
   "version": "3.7.3"
  }
 },
 "nbformat": 4,
 "nbformat_minor": 2
}
